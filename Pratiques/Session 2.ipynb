{
 "cells": [
  {
   "cell_type": "markdown",
   "metadata": {},
   "source": [
    "#### Pratique 1\n",
    "pour une letre définir la suivante dans l'alphabet (z sera le suivant de a)"
   ]
  },
  {
   "cell_type": "code",
   "execution_count": null,
   "metadata": {},
   "outputs": [],
   "source": []
  },
  {
   "cell_type": "markdown",
   "metadata": {},
   "source": [
    "#### Praique 2\n",
    "\n",
    "On définit <b>le poids d’une chaine</b> comme étant la somme des produits de la position de chaque voyelle dans cette chaine par son rang dans l’alphabet français.\n",
    "Si la chaine ne contient pas de voyelles alors son poids est égal à zéro.<br>\n",
    "<b>N.B</b> : les voyelles sont A, E, I, O, U, Y et leurs rangs respectifs sont :1, 5, 9, 15, 21, 25<br>\n",
    "<br>\n",
    "<b>Exemple </b>  La chaine ‘BONNE’ contient 2 voyelles ‘O’ et ‘E’, sont poids est égal à 2*15+5*5=55\n"
   ]
  },
  {
   "cell_type": "code",
   "execution_count": null,
   "metadata": {},
   "outputs": [],
   "source": []
  },
  {
   "cell_type": "markdown",
   "metadata": {},
   "source": [
    "#### Pratique 3\n",
    "Soit à remplir une liste L de taille n (2<n<50) par des entiers quelconques (aléatoires) et  tous compris entre 0 et 500. Ecrire un traitement qui permettra par la suite de vérifier si toutes les valeurs du tableau sont distinctes."
   ]
  },
  {
   "cell_type": "code",
   "execution_count": null,
   "metadata": {},
   "outputs": [],
   "source": []
  }
 ],
 "metadata": {
  "kernelspec": {
   "display_name": "Python 3",
   "language": "python",
   "name": "python3"
  },
  "language_info": {
   "codemirror_mode": {
    "name": "ipython",
    "version": 3
   },
   "file_extension": ".py",
   "mimetype": "text/x-python",
   "name": "python",
   "nbconvert_exporter": "python",
   "pygments_lexer": "ipython3",
   "version": "3.7.3"
  }
 },
 "nbformat": 4,
 "nbformat_minor": 2
}
