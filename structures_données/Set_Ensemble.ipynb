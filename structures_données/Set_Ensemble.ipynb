{
 "cells": [
  {
   "cell_type": "markdown",
   "metadata": {},
   "source": [
    "#### Set : les ensembles\n",
    "Comme les listes, ils sont: non ordonnés, itérables, modifiables, peuvent contenir plusieurs types de données constitués d'éléments <b><u>uniques</u></b> (chaînes, nombres ou tuples)"
   ]
  },
  {
   "cell_type": "code",
   "execution_count": 15,
   "metadata": {},
   "outputs": [
    {
     "data": {
      "text/plain": [
       "{'element2', 'element3', 'element6'}"
      ]
     },
     "execution_count": 15,
     "metadata": {},
     "output_type": "execute_result"
    }
   ],
   "source": [
    "ensemble=set()\n",
    "ensemble={ 100, \"100\", \"ABC\"}\n",
    "ensemble=set([\"element1\",\"element2\",\"element3\"])\n",
    "ensemble.add(\"element6\")\n",
    "ensemble.add(\"element1\")\n",
    "ensemble.remove('element1')\n",
    "ensemble"
   ]
  },
  {
   "cell_type": "code",
   "execution_count": 9,
   "metadata": {},
   "outputs": [
    {
     "data": {
      "text/plain": [
       "True"
      ]
     },
     "execution_count": 9,
     "metadata": {},
     "output_type": "execute_result"
    }
   ],
   "source": [
    "len(ensemble)\n",
    "\"element1\" in ensemble"
   ]
  },
  {
   "cell_type": "code",
   "execution_count": 13,
   "metadata": {},
   "outputs": [
    {
     "data": {
      "text/plain": [
       "{'element4', 'element5'}"
      ]
     },
     "execution_count": 13,
     "metadata": {},
     "output_type": "execute_result"
    }
   ],
   "source": [
    "#opérations ensemblistes : Intersection, Union et Différence\n",
    "ensemble1=set([\"element1\",\"element2\",\"element3\"])\n",
    "ensemble2=set([\"element1\",\"element4\",\"element5\"])\n",
    "\n",
    "ensemble1&ensemble2\n",
    "ensemble1|ensemble2\n",
    "ensemble1-ensemble2\n",
    "ensemble2-ensemble1\n"
   ]
  },
  {
   "cell_type": "code",
   "execution_count": 14,
   "metadata": {},
   "outputs": [
    {
     "name": "stdout",
     "output_type": "stream",
     "text": [
      "element1\n",
      "element2\n",
      "element3\n"
     ]
    }
   ],
   "source": [
    "for element in ensemble1:\n",
    "    print(element)"
   ]
  },
  {
   "cell_type": "code",
   "execution_count": null,
   "metadata": {},
   "outputs": [],
   "source": []
  }
 ],
 "metadata": {
  "kernelspec": {
   "display_name": "Python 3",
   "language": "python",
   "name": "python3"
  },
  "language_info": {
   "codemirror_mode": {
    "name": "ipython",
    "version": 3
   },
   "file_extension": ".py",
   "mimetype": "text/x-python",
   "name": "python",
   "nbconvert_exporter": "python",
   "pygments_lexer": "ipython3",
   "version": "3.7.3"
  }
 },
 "nbformat": 4,
 "nbformat_minor": 2
}
