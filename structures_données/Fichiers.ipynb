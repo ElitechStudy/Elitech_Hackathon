{
 "cells": [
  {
   "cell_type": "markdown",
   "metadata": {},
   "source": [
    "#### Traitements sur les fichiers\n"
   ]
  },
  {
   "cell_type": "markdown",
   "metadata": {},
   "source": [
    "Lire un fichier ligne par ligne en Python"
   ]
  },
  {
   "cell_type": "code",
   "execution_count": 4,
   "metadata": {},
   "outputs": [
    {
     "name": "stdout",
     "output_type": "stream",
     "text": [
      "<class 'list'>\n",
      "line 1 mot1 mot2\n",
      "line 2 mot1 mot2\n",
      "line 3 mot1 mot2\n"
     ]
    }
   ],
   "source": [
    "#Lire toutes les lignes d’un fichier à la fois en utilisant readlines()\n",
    "\n",
    "file = open('./Data/file.txt', \"r\")\n",
    "\n",
    "lines = file.readlines()\n",
    "print(type(lines))\n",
    "for line in lines:\n",
    "    print(line.strip())\n",
    "    \n",
    "file.close()"
   ]
  },
  {
   "cell_type": "code",
   "execution_count": 5,
   "metadata": {},
   "outputs": [
    {
     "name": "stdout",
     "output_type": "stream",
     "text": [
      "line 1 mot1 mot2\n",
      "\n",
      "line 2 mot1 mot2\n",
      "\n",
      "line 3 mot1 mot2\n"
     ]
    }
   ],
   "source": [
    "#Lire un fichier ligne par ligne en utilisant la boucle While\n",
    "\n",
    "file = open('./Data/file.txt', \"r\")\n",
    "\n",
    "line = file.readline()\n",
    "\n",
    "while line:\n",
    "    print(line)\n",
    "    line = file.readline()\n",
    "file.close()\n"
   ]
  },
  {
   "cell_type": "code",
   "execution_count": 7,
   "metadata": {},
   "outputs": [
    {
     "name": "stdout",
     "output_type": "stream",
     "text": [
      "line 1 mot1 mot2\n",
      "\n",
      "line 2 mot1 mot2\n",
      "\n",
      "line 3 mot1 mot2\n"
     ]
    }
   ],
   "source": [
    "file = open('./Data/file.txt', \"r\")\n",
    "for line in file:\n",
    "    print(line)\n",
    "file.close()"
   ]
  },
  {
   "cell_type": "code",
   "execution_count": null,
   "metadata": {},
   "outputs": [],
   "source": [
    "def main():\n",
    "     f= open(\"./Data/file.txt\",\"w\")\n",
    "     for i in range(10):\n",
    "         f.write(\"This is line %d\\r\\n\" % (i+1))\n",
    "     f.close()   \n",
    "     #Open the file back and read the contents\n",
    "     f=open(\"./Data/file.txt\", \"r\")\n",
    "     contents =f.read()\n",
    "     \n",
    "     fl =f.readlines()\n",
    "     for x in fl:\n",
    "        print x\n",
    "if __name__== \"__main__\":\n",
    "  main()"
   ]
  }
 ],
 "metadata": {
  "kernelspec": {
   "display_name": "Python 3",
   "language": "python",
   "name": "python3"
  },
  "language_info": {
   "codemirror_mode": {
    "name": "ipython",
    "version": 3
   },
   "file_extension": ".py",
   "mimetype": "text/x-python",
   "name": "python",
   "nbconvert_exporter": "python",
   "pygments_lexer": "ipython3",
   "version": "3.7.3"
  }
 },
 "nbformat": 4,
 "nbformat_minor": 2
}
