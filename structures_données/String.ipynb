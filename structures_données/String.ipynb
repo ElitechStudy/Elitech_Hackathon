{
 "cells": [
  {
   "cell_type": "markdown",
   "metadata": {},
   "source": [
    "#### String\n",
    "Une séquence de personnages, ils sont itérables, immuables <br>\n",
    "\n",
    "<h5>PAS DE TYPE CHAR (tout est String)</h5>"
   ]
  },
  {
   "cell_type": "code",
   "execution_count": 31,
   "metadata": {},
   "outputs": [
    {
     "name": "stdout",
     "output_type": "stream",
     "text": [
      "first line\n",
      "second line\n",
      "first line\\nfirst line\n"
     ]
    }
   ],
   "source": [
    "#les codes ASCII : fonctions ord et chr\n",
    "ord('e')\n",
    "chr(95)\n",
    "\n",
    "s='I like you'\n",
    "\n",
    "# basic string methods (does not modify the original string)\n",
    "s.lower()# returns 'i like you'\n",
    "s.upper()# returns 'I LIKE YOU'\n",
    "s.startswith('I')# returns True\n",
    "s.endswith('you')# returns True\n",
    "s.isdigit()# returns False (returns True if every character in the string is a digit)\n",
    "s.find('like')# returns index of first occurrence (2), but doesn't support regex\n",
    "s.find('hate')# returns -1 since not found\n",
    "s.replace('like','love')# replaces all instances of 'like' with 'love'\n",
    "\n",
    "# split a string into a list of substrings separated by a delimiter\n",
    "s.split(' ')# returns ['I','like','you']\n",
    "s.split()# same thing\n",
    "s2='a, an, the'\n",
    "s2.split(',')# returns ['a',' an',' the']\n",
    "# join a list of strings into one string using a delimiters\n",
    "tooges=['larry','curly','moe']\n",
    "' '.join(tooges)# returns 'larry curly moe\n",
    "\n",
    "#concatenate strings\n",
    "s3='The meaning of life is'\n",
    "s4='42'\n",
    "s3+' '+s4# returns 'The meaning of life is 42'\n",
    "s3+' '+str(42)# same thing\n",
    "# remove whitespace from start and end of a string\n",
    "s5=' ham and cheese    '\n",
    "s5.strip()# returns 'ham and cheese'\n",
    "\n",
    "# string substitutions: all of these return  'raining cats and dogs'\n",
    "'raining%sand%s'%('cats','dogs')# old way\n",
    "'raining {} and {}'.format('cats','dogs')# new way\n",
    "'raining {arg1} and {arg2}'.format(arg1='cats',arg2='dogs')\n",
    "\n",
    "# named arguments# string formatting# more examples: \n",
    "'pi is {:.3f}'.format(3.14159)# returns 'pi is 3.142'\n",
    "# normal strings versus raw strings\n",
    "print('first line\\nsecond line')# prendre en considération des caractères d'échappement\n",
    "print(r'first line\\nfirst line')# traiter les \\ comme des caractères spéciaux"
   ]
  },
  {
   "cell_type": "code",
   "execution_count": 1,
   "metadata": {},
   "outputs": [
    {
     "data": {
      "text/plain": [
       "101"
      ]
     },
     "execution_count": 1,
     "metadata": {},
     "output_type": "execute_result"
    }
   ],
   "source": [
    "#les codes ASCII : fonctions ord et chr\n",
    "ord('e')"
   ]
  },
  {
   "cell_type": "code",
   "execution_count": 2,
   "metadata": {},
   "outputs": [
    {
     "data": {
      "text/plain": [
       "'_'"
      ]
     },
     "execution_count": 2,
     "metadata": {},
     "output_type": "execute_result"
    }
   ],
   "source": [
    "chr(95)"
   ]
  },
  {
   "cell_type": "code",
   "execution_count": null,
   "metadata": {},
   "outputs": [],
   "source": []
  }
 ],
 "metadata": {
  "kernelspec": {
   "display_name": "Python 3",
   "language": "python",
   "name": "python3"
  },
  "language_info": {
   "codemirror_mode": {
    "name": "ipython",
    "version": 3
   },
   "file_extension": ".py",
   "mimetype": "text/x-python",
   "name": "python",
   "nbconvert_exporter": "python",
   "pygments_lexer": "ipython3",
   "version": "3.7.3"
  }
 },
 "nbformat": 4,
 "nbformat_minor": 2
}
