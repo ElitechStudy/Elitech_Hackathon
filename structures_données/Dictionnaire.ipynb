{
 "cells": [
  {
   "cell_type": "markdown",
   "metadata": {},
   "source": [
    "#### Les dictionnaires\n",
    "Les dictionnaires sont des structures qui peuvent contenir plusieurs types de données et sont classés par paires clé-valeur: pour chaque clé (unique), le dictionnaire génère une valeur. Les clés peuvent être des chaînes, des nombres ou des tuples, tandis que les valeurs correspondantes peuvent être n'importe quel objet Python. Les dictionnaires sont: non ordonnés, itérables, modifiables"
   ]
  },
  {
   "cell_type": "code",
   "execution_count": 15,
   "metadata": {},
   "outputs": [
    {
     "data": {
      "text/plain": [
       "{'Père': 'Alain',\n",
       " 'Mére': 'Sylvie',\n",
       " 'Soeur': ['Marie', 'Juliette'],\n",
       " 'grand père': 'Dad',\n",
       " 'grand mère': 'Mom'}"
      ]
     },
     "execution_count": 15,
     "metadata": {},
     "output_type": "execute_result"
    }
   ],
   "source": [
    "##### dic={}\n",
    "dic=dict()\n",
    "famille={'Père':'Alain', 'Mére':'Sylvie', 'fils':'Pierre'}\n",
    "liste=[('Père','Alain'), ('Mére','Sylvie'), ('fils','Pierre')]\n",
    "famille=dict(liste)\n",
    "\n",
    "famille['Père']\n",
    "len(famille)\n",
    "famille.keys()\n",
    "famille.values()\n",
    "famille.items()\n",
    "\n",
    "#Modifier le dictionnaire\n",
    "famille['Soeur']='Marie'\n",
    "famille['Soeur']='Juliette'\n",
    "\n",
    "del famille['Soeur']\n",
    "famille.pop('fils')\n",
    "famille['Soeur']=['Marie','Juliette']\n",
    "\n",
    "famille.update({'grand père':'Dad','grand mère':'Mom' })\n",
    "famille"
   ]
  },
  {
   "cell_type": "code",
   "execution_count": null,
   "metadata": {},
   "outputs": [],
   "source": []
  }
 ],
 "metadata": {
  "kernelspec": {
   "display_name": "Python 3",
   "language": "python",
   "name": "python3"
  },
  "language_info": {
   "codemirror_mode": {
    "name": "ipython",
    "version": 3
   },
   "file_extension": ".py",
   "mimetype": "text/x-python",
   "name": "python",
   "nbconvert_exporter": "python",
   "pygments_lexer": "ipython3",
   "version": "3.7.3"
  }
 },
 "nbformat": 4,
 "nbformat_minor": 2
}
