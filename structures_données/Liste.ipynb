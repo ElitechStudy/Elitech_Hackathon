{
 "cells": [
  {
   "cell_type": "markdown",
   "metadata": {},
   "source": [
    "#### Les listes en Python\n",
    "\n",
    "<h5>Définition :</h5>  \n",
    "Contenuer permettant de stocker plusieurs variables : itérables et indexable\n",
    "<br>\n",
    "Traitements courants :\n",
    "<ol><li>créations <li>manipulations</ol>"
   ]
  },
  {
   "cell_type": "code",
   "execution_count": 1,
   "metadata": {},
   "outputs": [
    {
     "data": {
      "text/plain": [
       "list"
      ]
     },
     "execution_count": 1,
     "metadata": {},
     "output_type": "execute_result"
    }
   ],
   "source": [
    "liste_vide=[]\n",
    "liste_vide=list()\n",
    "type(liste_vide)"
   ]
  },
  {
   "cell_type": "code",
   "execution_count": 20,
   "metadata": {},
   "outputs": [
    {
     "name": "stdout",
     "output_type": "stream",
     "text": [
      "['mot1', 100, 15.23, True]\n"
     ]
    }
   ],
   "source": [
    "liste=[\"mot1\",\"mot2\",\"mot3\",\"mot4\",]\n",
    "liste=[\"mot1\",100,15.23,True,]\n",
    "print(liste)"
   ]
  },
  {
   "cell_type": "code",
   "execution_count": 7,
   "metadata": {},
   "outputs": [
    {
     "data": {
      "text/plain": [
       "4"
      ]
     },
     "execution_count": 7,
     "metadata": {},
     "output_type": "execute_result"
    }
   ],
   "source": [
    "#Examiner une liste\n",
    "liste[0]\n",
    "len(liste)"
   ]
  },
  {
   "cell_type": "code",
   "execution_count": 27,
   "metadata": {},
   "outputs": [],
   "source": [
    "#Modifier les éléments de liste\n",
    "liste.append(\"ABCC\")\n",
    "liste.extend([100, 200])\n",
    "liste=liste+[10, 20,30] #slower than extend\n",
    "liste.insert(0,\"first\")\n",
    "\n",
    "liste.remove(\"first\")\n",
    "liste.pop(0)\n",
    "del liste[0]"
   ]
  },
  {
   "cell_type": "code",
   "execution_count": 41,
   "metadata": {},
   "outputs": [
    {
     "data": {
      "text/plain": [
       "[100, 90, 80, 70, 60, 50, 40, 30, 20, 10]"
      ]
     },
     "execution_count": 41,
     "metadata": {},
     "output_type": "execute_result"
    }
   ],
   "source": [
    "#Accès et indexation : slicing [start:end:stride]\n",
    "liste=[10,20,30,40,50,60,70,80,90,100]\n",
    "liste.count(10)\n",
    "liste.index(10)\n",
    "\n",
    "liste[3]\n",
    "liste[2:5]\n",
    "liste[2:]\n",
    "liste[:3]\n",
    "liste[-1]\n",
    "liste[::2]\n",
    "liste[::-1]"
   ]
  },
  {
   "cell_type": "code",
   "execution_count": 53,
   "metadata": {},
   "outputs": [
    {
     "data": {
      "text/plain": [
       "[10, 20, 10, 20, 30, 40, 30, 40, 30, 40]"
      ]
     },
     "execution_count": 53,
     "metadata": {},
     "output_type": "execute_result"
    }
   ],
   "source": [
    "#tri des listes : sort et sorted methods\n",
    "liste.sort()\n",
    "liste.sort(reverse=True)\n",
    "resultat=sorted(liste)\n",
    "resultat=sorted(liste, reverse=True)\n",
    "#concaténer et reproduire\n",
    "l1=[10,20]\n",
    "l2=[30,40]\n",
    "l1+l2\n",
    "l1*2+l2*3"
   ]
  },
  {
   "cell_type": "code",
   "execution_count": null,
   "metadata": {},
   "outputs": [],
   "source": [
    "# create a second reference to the same list\n",
    "num=[1,2,3]\n",
    "same_num=num\n",
    "same_num[0]=0# modifies both 'num' and 'same_num'\n",
    "# copy a list (three ways)\n",
    "new_num=num.copy()\n",
    "new_num=num[:]\n",
    "new_num=list(num)\n",
    "# examine objects\n",
    "id(num)==id(same_num)# returns True\n",
    "id(num)==id(new_num)# returns False\n",
    "num is same_num# returns True\n",
    "num is new_num# returns False\n",
    "num==same_num# returns True\n",
    "num==new_num# returns True (their contents are equivalent)\n"
   ]
  }
 ],
 "metadata": {
  "kernelspec": {
   "display_name": "Python 3",
   "language": "python",
   "name": "python3"
  },
  "language_info": {
   "codemirror_mode": {
    "name": "ipython",
    "version": 3
   },
   "file_extension": ".py",
   "mimetype": "text/x-python",
   "name": "python",
   "nbconvert_exporter": "python",
   "pygments_lexer": "ipython3",
   "version": "3.7.3"
  }
 },
 "nbformat": 4,
 "nbformat_minor": 2
}
