{
 "cells": [
  {
   "cell_type": "markdown",
   "metadata": {},
   "source": [
    "#### Tuples (Séquence)\n",
    "Comme les listes, mais leur taille ne peut pas changer: ordonné, itérable, <b> immuable </b>, peut contenir plusieurs types de données"
   ]
  },
  {
   "cell_type": "code",
   "execution_count": 1,
   "metadata": {},
   "outputs": [],
   "source": [
    "# create a tuple\n",
    "tupl=(0,1,'two')       # create a tuple directly\n",
    "tupl=tuple([0,1,'two'])# create a tuple from a list\n",
    "zero=(0,)# la virgule est imérative pour indiquer le type tuple\n",
    "\n",
    "tupl[2]# returns 'two'\n",
    "len(tupl)# returns 3\n",
    "tupl.count(0)# counts the number of instances of that value (1)\n",
    "tupl.index(1)# returns the index of the first instance of that value (1)\n",
    "\n",
    "# elements of a tuple cannot be modified\n",
    "# tupl[2] = 2# throws an error\n",
    "# concatenate tuples\n",
    "tupl=tupl+(3,4)"
   ]
  },
  {
   "cell_type": "code",
   "execution_count": null,
   "metadata": {},
   "outputs": [],
   "source": []
  }
 ],
 "metadata": {
  "kernelspec": {
   "display_name": "Python 3",
   "language": "python",
   "name": "python3"
  },
  "language_info": {
   "codemirror_mode": {
    "name": "ipython",
    "version": 3
   },
   "file_extension": ".py",
   "mimetype": "text/x-python",
   "name": "python",
   "nbconvert_exporter": "python",
   "pygments_lexer": "ipython3",
   "version": "3.7.3"
  }
 },
 "nbformat": 4,
 "nbformat_minor": 2
}
